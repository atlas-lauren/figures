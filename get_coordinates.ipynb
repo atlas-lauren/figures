{
 "cells": [
  {
   "cell_type": "code",
   "execution_count": 2,
   "metadata": {},
   "outputs": [
    {
     "name": "stdout",
     "output_type": "stream",
     "text": [
      "Coordinates have been added to the spreadsheet saved at /Users/laurenkrohn/Documents/Documents_iMac/Projects/figures/site_data/cr_sites.csv\n"
     ]
    }
   ],
   "source": [
    "import requests\n",
    "import pandas as pd\n",
    "import json\n",
    "import config\n",
    "\n",
    "# Mapbox API access token\n",
    "mapbox_access_token = config.mapbox_access_token\n",
    "\n",
    "# Function to get coordinates from address using Mapbox Geocoding API\n",
    "def get_coordinates(address):\n",
    "    url = f\"https://api.mapbox.com/geocoding/v5/mapbox.places/{address}.json\"\n",
    "    params = {\n",
    "        'access_token': mapbox_access_token,\n",
    "        'limit': 1\n",
    "    }\n",
    "    \n",
    "    response = requests.get(url, params=params)\n",
    "    data = json.loads(response.text)\n",
    "    \n",
    "    if data['features']:\n",
    "        return data['features'][0]['center']\n",
    "    else:\n",
    "        return None\n",
    "\n",
    "# Load the existing spreadsheet\n",
    "file_path = '/Users/laurenkrohn/Documents/Documents_iMac/Projects/figures/site_data/cr_sites.csv'  # Change this to your file path\n",
    "df = pd.read_csv(file_path)\n",
    "\n",
    "# Assuming 'Address' is the column with addresses\n",
    "if 'Address' not in df.columns:\n",
    "    raise ValueError(\"The spreadsheet does not contain an 'Address' column.\")\n",
    "\n",
    "# Get coordinates for each address\n",
    "for index, row in df.iterrows():\n",
    "    address = row['Address']\n",
    "    coordinates = get_coordinates(address)\n",
    "    if coordinates:\n",
    "        df.at[index, 'Latitude'] = coordinates[1]  # Note: Mapbox returns [longitude, latitude]\n",
    "        df.at[index, 'Longitude'] = coordinates[0]\n",
    "    else:\n",
    "        print(f\"Could not find coordinates for address: {address}\")\n",
    "\n",
    "# Save the updated dataframe back to a CSV\n",
    "output_file_path = '/Users/laurenkrohn/Documents/Documents_iMac/Projects/figures/site_data/cr_sites.csv'  # Change this to your desired output path\n",
    "df.to_csv(output_file_path, index=False)\n",
    "\n",
    "print(f\"Coordinates have been added to the spreadsheet saved at {output_file_path}\")"
   ]
  },
  {
   "cell_type": "code",
   "execution_count": null,
   "metadata": {},
   "outputs": [],
   "source": []
  }
 ],
 "metadata": {
  "kernelspec": {
   "display_name": "pyvizenv",
   "language": "python",
   "name": "python3"
  },
  "language_info": {
   "codemirror_mode": {
    "name": "ipython",
    "version": 3
   },
   "file_extension": ".py",
   "mimetype": "text/x-python",
   "name": "python",
   "nbconvert_exporter": "python",
   "pygments_lexer": "ipython3",
   "version": "3.7.7"
  }
 },
 "nbformat": 4,
 "nbformat_minor": 2
}
